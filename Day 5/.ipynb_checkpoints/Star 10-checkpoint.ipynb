{
 "cells": [
  {
   "cell_type": "code",
   "execution_count": 146,
   "id": "a0a52eda-8c5a-49ba-87e3-99c3aaea564a",
   "metadata": {},
   "outputs": [],
   "source": [
    "Rules = open('Rules.txt').read().split('\\n')\n",
    "Updates = open('Updates.txt').read().split('\\n')\n",
    "InValidUpdates = []\n",
    "ValidUpdates = []\n",
    "InValidCount = 0\n",
    "\n",
    "for i in range(len(Rules)):\n",
    "    Rules[i] = Rules[i].split('|')\n",
    "\n",
    "for n in range(len(Updates)):\n",
    "    valid = True\n",
    "    Dupe = False\n",
    "    for i in range(len(Rules)):\n",
    "        if (Updates[n].rfind(Rules[i][0]) != -1 and Updates[n].rfind(Rules[i][1]) != -1) and ((Updates[n].find(Rules[i][0]) or Updates[n].rfind(Rules[i][0])) > Updates[n].find(Rules[i][1])):\n",
    "            valid = False\n",
    "            InValidCount += 1\n",
    "            break\n",
    "\n",
    "        elif (Updates[n].find(Rules[i][0]) != -1 and Updates[n].find(Rules[i][1]) != -1) and not(Updates[n].find(Rules[i][0]) > Updates[n].find(Rules[i][1])):\n",
    "            valid = True\n",
    "    \n",
    "    if valid == False:\n",
    "        InValidUpdates.append(Updates[n])\n"
   ]
  },
  {
   "cell_type": "code",
   "execution_count": 147,
   "id": "cceb7b4f-8c3c-49bf-80f1-a92905f6dd2c",
   "metadata": {
    "scrolled": true
   },
   "outputs": [],
   "source": [
    "DirtyUpdates = InValidUpdates.copy()\n",
    "NewCleanUpdates = []\n",
    "\n",
    "for i in range(len(DirtyUpdates)):\n",
    "    DirtyUpdates[i] = DirtyUpdates[i].split(',')\n",
    "    Line = DirtyUpdates[i].copy()\n",
    "    for x in range(len(Line)):\n",
    "        for m in range(len(Rules)):\n",
    "            if Line.count(Rules[m][0]) == 1  and  Line.count(Rules[m][1]) == 1:\n",
    "                num1 = Line.index(Rules[m][1])\n",
    "                num2 = Line.index(Rules[m][0])\n",
    "                num3 = Line[num1]\n",
    "                num4 = Line[num2]\n",
    "                if Line.index(Rules[m][0]) > Line.index(Rules[m][1]):\n",
    "                    Line.pop(num1)\n",
    "                    Line.insert(num1, num4)\n",
    "                    Line.pop(num2)\n",
    "                    Line.insert(num2, num3)\n",
    "\n",
    "    NewCleanUpdates.append(Line)"
   ]
  },
  {
   "cell_type": "code",
   "execution_count": 148,
   "id": "1d6d6cd5-a210-4053-8fb6-bb9293e903b5",
   "metadata": {},
   "outputs": [
    {
     "name": "stdout",
     "output_type": "stream",
     "text": [
      "5723\n"
     ]
    }
   ],
   "source": [
    "Mid = []\n",
    "TotalNewMidNum = 0\n",
    "\n",
    "for i in range(len(NewCleanUpdates)):\n",
    "    for n in range(len(NewCleanUpdates[i])):\n",
    "        NewCleanUpdates[i][n] = int(NewCleanUpdates[i][n])\n",
    "\n",
    "    Mid.append(NewCleanUpdates[i][int(len(NewCleanUpdates[i])/2)])\n",
    "\n",
    "for i in range(len(Mid)):\n",
    "    TotalNewMidNum += Mid[i]\n",
    "    \n",
    "print(TotalNewMidNum)"
   ]
  },
  {
   "cell_type": "code",
   "execution_count": null,
   "id": "8afad33c-262d-49d8-80ab-6986bc202982",
   "metadata": {},
   "outputs": [],
   "source": []
  }
 ],
 "metadata": {
  "kernelspec": {
   "display_name": "Python 3 (ipykernel)",
   "language": "python",
   "name": "python3"
  },
  "language_info": {
   "codemirror_mode": {
    "name": "ipython",
    "version": 3
   },
   "file_extension": ".py",
   "mimetype": "text/x-python",
   "name": "python",
   "nbconvert_exporter": "python",
   "pygments_lexer": "ipython3",
   "version": "3.12.5"
  }
 },
 "nbformat": 4,
 "nbformat_minor": 5
}
