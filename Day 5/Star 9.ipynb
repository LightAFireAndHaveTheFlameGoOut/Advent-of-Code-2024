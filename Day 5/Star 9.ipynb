{
 "cells": [
  {
   "cell_type": "code",
   "execution_count": 4,
   "id": "33061bae-80f0-4d78-922d-530d35e5c7c5",
   "metadata": {
    "scrolled": true
   },
   "outputs": [
    {
     "name": "stdout",
     "output_type": "stream",
     "text": [
      "117\n"
     ]
    }
   ],
   "source": [
    "Rules = open('Rules.txt').read().split('\\n')\n",
    "Updates = open('Updates.txt').read().split('\\n')\n",
    "ValidUpdates = []\n",
    "InValidCount = 0\n",
    "\n",
    "for i in range(len(Rules)):\n",
    "    Rules[i] = Rules[i].split('|')\n",
    "\n",
    "for n in range(len(Updates)):\n",
    "    valid = True\n",
    "    Dupe = False\n",
    "    for i in range(len(Rules)):\n",
    "        if (Updates[n].rfind(Rules[i][0]) != -1 and Updates[n].rfind(Rules[i][1]) != -1) and ((Updates[n].find(Rules[i][0]) or Updates[n].rfind(Rules[i][0])) > Updates[n].find(Rules[i][1])):\n",
    "            valid = False\n",
    "            InValidCount += 1\n",
    "            break\n",
    "\n",
    "        elif (Updates[n].find(Rules[i][0]) != -1 and Updates[n].find(Rules[i][1]) != -1) and not(Updates[n].find(Rules[i][0]) > Updates[n].find(Rules[i][1])):\n",
    "            valid = True\n",
    "    \n",
    "    if valid == True:\n",
    "        ValidUpdates.append(Updates[n])\n",
    "\n",
    "\n",
    "\n",
    "print(InValidCount)"
   ]
  },
  {
   "cell_type": "code",
   "execution_count": 5,
   "id": "bc3ad970-8e23-4c16-82a2-44de94bf072b",
   "metadata": {},
   "outputs": [],
   "source": [
    "CleanUpdates = ValidUpdates.copy()"
   ]
  },
  {
   "cell_type": "code",
   "execution_count": 6,
   "id": "83f53fc9-0026-4f94-873e-f0c5c4ecba78",
   "metadata": {
    "scrolled": true
   },
   "outputs": [
    {
     "name": "stdout",
     "output_type": "stream",
     "text": [
      "4609\n"
     ]
    }
   ],
   "source": [
    "TotalMidNum = 0\n",
    "Mid = []\n",
    "\n",
    "for i in range(len(CleanUpdates)):\n",
    "    CleanUpdates[i] = CleanUpdates[i].split(',')\n",
    "    for n in range(len(CleanUpdates[i])):\n",
    "        CleanUpdates[i][n] = int(CleanUpdates[i][n])\n",
    "\n",
    "    Mid.append(CleanUpdates[i][int(len(CleanUpdates[i])/2)])\n",
    "\n",
    "for i in range(len(Mid)):\n",
    "    TotalMidNum += Mid[i]\n",
    "print(TotalMidNum)\n"
   ]
  },
  {
   "cell_type": "code",
   "execution_count": null,
   "id": "c73e5437-e7fe-4ee1-839e-4845e7c2edb3",
   "metadata": {},
   "outputs": [],
   "source": []
  }
 ],
 "metadata": {
  "kernelspec": {
   "display_name": "Python 3 (ipykernel)",
   "language": "python",
   "name": "python3"
  },
  "language_info": {
   "codemirror_mode": {
    "name": "ipython",
    "version": 3
   },
   "file_extension": ".py",
   "mimetype": "text/x-python",
   "name": "python",
   "nbconvert_exporter": "python",
   "pygments_lexer": "ipython3",
   "version": "3.12.5"
  }
 },
 "nbformat": 4,
 "nbformat_minor": 5
}
