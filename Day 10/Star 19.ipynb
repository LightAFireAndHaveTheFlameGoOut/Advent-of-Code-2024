{
 "cells": [
  {
   "cell_type": "code",
   "execution_count": 66,
   "id": "06bf4e38-1c67-4dbb-8c30-c9ba1782cd27",
   "metadata": {},
   "outputs": [
    {
     "name": "stdout",
     "output_type": "stream",
     "text": [
      "[[8, 9, 0, 1, 0, 1, 2, 3], [7, 8, 1, 2, 1, 8, 7, 4], [8, 7, 4, 3, 0, 9, 6, 5], [9, 6, 5, 4, 9, 8, 7, 4], [4, 5, 6, 7, 8, 9, 0, 3], [3, 2, 0, 1, 9, 0, 1, 2], [0, 1, 3, 2, 9, 8, 0, 1], [1, 0, 4, 5, 6, 7, 3, 2]]\n",
      "[['.', '.', '.', '.', '.', '.', '.', '.'], ['.', '.', '.', '.', '.', '.', '.', '.'], ['.', '.', '.', '.', '.', '.', '.', '.'], ['.', '.', '.', '.', '.', '.', '.', '.'], ['.', '.', '.', '.', '.', '.', '.', '.'], ['.', '.', '.', '.', '.', '.', '.', '.'], ['.', '.', '.', '.', '.', '.', '.', '.'], ['.', '.', '.', '.', '.', '.', '.', '.']]\n"
     ]
    }
   ],
   "source": [
    "import copy\n",
    "TopMap = open('ExTopMap.txt').read().split()\n",
    "EmptyMap = []\n",
    "for i in range(len(TopMap)):\n",
    "    EmptyMap.append(['.']*len(TopMap[0]))\n",
    "    TopMap[i] = list(TopMap[i]) \n",
    "    for n in range(len(TopMap[i])):\n",
    "        TopMap[i][n] = int(TopMap[i][n])\n",
    "\n",
    "\n",
    "print(TopMap)\n",
    "print(EmptyMap)"
   ]
  },
  {
   "cell_type": "code",
   "execution_count": 72,
   "id": "73e551fc-8029-4b72-bd00-709686fa8b2e",
   "metadata": {},
   "outputs": [
    {
     "name": "stdout",
     "output_type": "stream",
     "text": [
      "[[0, 0, 2], [0, 0, 4], [0, 2, 4], [0, 4, 6], [0, 5, 2], [0, 5, 5], [0, 6, 0], [0, 6, 6], [0, 7, 1]]\n"
     ]
    }
   ],
   "source": [
    "List_0 = []\n",
    "for y in range(len(TopMap)):\n",
    "    for x in range(len(TopMap[y])):\n",
    "        if TopMap[y][x] == 0:\n",
    "            List_0.append([0, y, x])\n",
    "\n",
    "print(List_0)\n"
   ]
  },
  {
   "cell_type": "code",
   "execution_count": 70,
   "id": "187d34a0-a537-4e5f-bbb1-0068d44f1584",
   "metadata": {},
   "outputs": [
    {
     "name": "stdout",
     "output_type": "stream",
     "text": [
      "False\n"
     ]
    }
   ],
   "source": [
    "for n in range(len(List_0)):\n",
    "    ValidChecked = []\n",
    "    ToCheck = []\n",
    "    AltPaths = []\n",
    "    ThisPath.append(List_0[n])\n",
    "    count = -1\n",
    "    while any():\n",
    "        count += 1\n",
    "        if ToCheck[count][1] - 1 < 0:\n",
    "            if TopMap[(ToCheck[count][1])-1][(ToCheck[count][2])] == ToCheck[count][0]+1:\n",
    "                ToCheck.append([ToCheck[count][0]+1, (ToCheck[count][1])-1, (ToCheck[count][2])])\n",
    "        if ToCheck[count][2] + 1 < 0:\n",
    "            if TopMap[(ToCheck[count][1])[(ToCheck[count][2])+1] == ToCheck[count][0]+1:\n",
    "                ToCheck.append([ToCheck[count][0]+1, (ToCheck[count][1]), (ToCheck[count][2])-1])\n",
    "        if \n",
    "        "
   ]
  },
  {
   "cell_type": "code",
   "execution_count": null,
   "id": "f666080c-610f-4eb6-b532-f69ee7c3e7f7",
   "metadata": {},
   "outputs": [],
   "source": [
    "MFile = open('ExMapped_9.txt', 'w')\n",
    "TempMap = str(Map.copy()).strip('[]').replace('], [', '\\n').replace(', ', '').replace('\\'', '')\n",
    "MFile.write(TempMap)\n",
    "MFile.close()"
   ]
  },
  {
   "cell_type": "code",
   "execution_count": 63,
   "id": "b4935371-c048-4e4a-9aa7-508bacb8f661",
   "metadata": {},
   "outputs": [
    {
     "name": "stdout",
     "output_type": "stream",
     "text": [
      "[['.', '.', 0, '.', 0, '.', '.', '.'], ['.', '.', '.', '.', '.', '.', '.', '.'], ['.', '.', '.', '.', 0, '.', '.', '.'], ['.', '.', '.', '.', '.', '.', '.', '.'], ['.', '.', '.', '.', '.', '.', 0, '.'], ['.', '.', 0, '.', '.', 0, '.', '.'], [0, '.', '.', '.', '.', '.', 0, '.'], ['.', 0, '.', '.', '.', '.', '.', '.']]\n",
      "[['.', 9, '.', '.', '.', '.', '.', '.'], ['.', '.', '.', '.', '.', '.', '.', '.'], ['.', '.', '.', '.', '.', 9, '.', '.'], [9, '.', '.', '.', 9, '.', '.', '.'], ['.', '.', '.', '.', '.', 9, '.', '.'], ['.', '.', '.', '.', 9, '.', '.', '.'], ['.', '.', '.', '.', 9, '.', '.', '.'], ['.', '.', '.', '.', '.', '.', '.', '.']]\n"
     ]
    }
   ],
   "source": [
    "\n",
    "Map_0 = copy.deepcopy(EmptyMap)\n",
    "for y in range(len(TopMap)):\n",
    "    for x in range(len(TopMap[y])):\n",
    "        if TopMap[y][x] == 0:\n",
    "            #print(y, x)\n",
    "            Map_0[y][x] = 0\n",
    "\n",
    "Map_9 = copy.deepcopy(EmptyMap)\n",
    "for y in range(len(TopMap)):\n",
    "    for x in range(len(TopMap[y])):\n",
    "        if TopMap[y][x] == 9:\n",
    "            #print(y, x)\n",
    "            Map_9[y][x] = 9\n",
    "print(Map_0)\n",
    "print(Map_9)"
   ]
  },
  {
   "cell_type": "code",
   "execution_count": null,
   "id": "8879f96f-d261-469d-a494-129ccc269e9c",
   "metadata": {},
   "outputs": [],
   "source": []
  }
 ],
 "metadata": {
  "kernelspec": {
   "display_name": "Python 3 (ipykernel)",
   "language": "python",
   "name": "python3"
  },
  "language_info": {
   "codemirror_mode": {
    "name": "ipython",
    "version": 3
   },
   "file_extension": ".py",
   "mimetype": "text/x-python",
   "name": "python",
   "nbconvert_exporter": "python",
   "pygments_lexer": "ipython3",
   "version": "3.12.5"
  }
 },
 "nbformat": 4,
 "nbformat_minor": 5
}
