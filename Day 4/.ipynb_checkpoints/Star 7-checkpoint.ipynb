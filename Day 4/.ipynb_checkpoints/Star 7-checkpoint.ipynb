{
 "cells": [
  {
   "cell_type": "code",
   "execution_count": 53,
   "id": "606a5b85-7b90-492b-b05c-9ab41f017bfb",
   "metadata": {
    "scrolled": true
   },
   "outputs": [
    {
     "name": "stdout",
     "output_type": "stream",
     "text": [
      "2370\n"
     ]
    }
   ],
   "source": [
    "Crossword = open('Crossword.txt','r').read().split('\\n')\n",
    "\n",
    "XMASCount = 0\n",
    "\n",
    "for i in range(3):\n",
    "        Crossword.append(None)\n",
    "    \n",
    "for i in range(len(Crossword) - 3):\n",
    "    Crossword[i] = '    ' + Crossword[i] + ' '\n",
    "    \n",
    "for i in range(len(Crossword)- 3):\n",
    "    for n in range(len(Crossword[i])):\n",
    "        if (Crossword[i][n] == 'X' and Crossword[i][n + 1] == 'M' and Crossword[i][n + 2] == 'A' and Crossword[i][n + 3] == 'S') or (Crossword[i][n] == 'S' and Crossword[i][n + 1] == 'A' and Crossword[i][n + 2] == 'M' and Crossword[i][n + 3] == 'X'):\n",
    "            XMASCount += 1\n",
    "\n",
    "        if Crossword[i+3] != None:\n",
    "            if (Crossword[i][n] == 'X' and Crossword[i + 1][n] == 'M' and Crossword[i + 2][n] == 'A' and Crossword[i + 3][n] == 'S') or (Crossword[i][n] == 'S' and Crossword[i + 1][n] == 'A' and Crossword[i + 2][n] == 'M' and Crossword[i + 3][n] == 'X'):\n",
    "                XMASCount += 1\n",
    "\n",
    "            if (Crossword[i][n] == 'X' and Crossword[i + 1][n - 1] == 'M' and Crossword[i + 2][n - 2] == 'A' and Crossword[i + 3][n - 3] == 'S') or (Crossword[i][n] == 'S' and Crossword[i + 1][n - 1] == 'A' and Crossword[i + 2][n - 2] == 'M' and Crossword[i + 3][n - 3] == 'X'):\n",
    "                XMASCount += 1\n",
    "        \n",
    "            if (Crossword[i][n] == 'X' and Crossword[i + 1][n + 1] == 'M' and Crossword[i + 2][n + 2] == 'A' and Crossword[i + 3][n + 3] == 'S') or (Crossword[i][n] == 'S' and Crossword[i + 1][n + 1] == 'A' and Crossword[i + 2][n + 2] == 'M' and Crossword[i + 3][n + 3] == 'X'):\n",
    "                XMASCount += 1\n",
    "\n",
    "\n",
    "print(XMASCount)      "
   ]
  },
  {
   "cell_type": "code",
   "execution_count": null,
   "id": "eb173a1e-526d-402f-990d-ce8c0a8a8cda",
   "metadata": {},
   "outputs": [],
   "source": []
  }
 ],
 "metadata": {
  "kernelspec": {
   "display_name": "Python 3 (ipykernel)",
   "language": "python",
   "name": "python3"
  },
  "language_info": {
   "codemirror_mode": {
    "name": "ipython",
    "version": 3
   },
   "file_extension": ".py",
   "mimetype": "text/x-python",
   "name": "python",
   "nbconvert_exporter": "python",
   "pygments_lexer": "ipython3",
   "version": "3.13.0"
  }
 },
 "nbformat": 4,
 "nbformat_minor": 5
}
