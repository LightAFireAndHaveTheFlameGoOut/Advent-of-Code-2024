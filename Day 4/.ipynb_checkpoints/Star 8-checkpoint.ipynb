{
 "cells": [
  {
   "cell_type": "code",
   "execution_count": 43,
   "id": "f30e4c5c-03c2-449f-b0ab-06802d0458dd",
   "metadata": {
    "scrolled": true
   },
   "outputs": [
    {
     "name": "stdout",
     "output_type": "stream",
     "text": [
      "1908\n"
     ]
    }
   ],
   "source": [
    "Crossword = open('Crossword.txt','r').read().split('\\n')\n",
    "X_MASCount = 0\n",
    "\n",
    "for i in range(2):\n",
    "        Crossword.append(None)\n",
    "    \n",
    "for i in range(len(Crossword) - 2):\n",
    "    Crossword[i] = Crossword[i] + ' '\n",
    "    \n",
    "for i in range(len(Crossword)- 2):\n",
    "    for n in range(len(Crossword[i])):   \n",
    "        if Crossword[i+2] != None: \n",
    "            if ((Crossword[i][n] == 'M' and Crossword[i + 1][n + 1] == 'A' and Crossword[i + 2][n + 2] == 'S') or (Crossword[i][n] == 'S' and Crossword[i + 1][n + 1] == 'A' and Crossword[i + 2][n + 2] == 'M')) and ((Crossword[i][n + 2] == 'M' and Crossword[i + 1][n + 1] == 'A' and Crossword[i + 2][n] == 'S') or (Crossword[i][n + 2] == 'S' and Crossword[i + 1][n + 1] == 'A' and Crossword[i + 2][n] == 'M')):\n",
    "                X_MASCount += 1\n",
    "\n",
    "print(X_MASCount) "
   ]
  },
  {
   "cell_type": "code",
   "execution_count": null,
   "id": "8e78eb52-822e-447d-a2fe-c5c8c9d541e3",
   "metadata": {},
   "outputs": [],
   "source": []
  }
 ],
 "metadata": {
  "kernelspec": {
   "display_name": "Python 3 (ipykernel)",
   "language": "python",
   "name": "python3"
  },
  "language_info": {
   "codemirror_mode": {
    "name": "ipython",
    "version": 3
   },
   "file_extension": ".py",
   "mimetype": "text/x-python",
   "name": "python",
   "nbconvert_exporter": "python",
   "pygments_lexer": "ipython3",
   "version": "3.13.0"
  }
 },
 "nbformat": 4,
 "nbformat_minor": 5
}
