{
 "cells": [
  {
   "cell_type": "code",
   "execution_count": null,
   "id": "001fdf78-4fce-4290-a6b9-83bd17f49670",
   "metadata": {
    "scrolled": true
   },
   "outputs": [],
   "source": [
    "Crossword = open('Crossword.txt','r').read().split('\\n')\n",
    "X_MASCount = 0\n",
    "\n",
    "for i in range(2):\n",
    "        Crossword.append(None)\n",
    "    \n",
    "for i in range(len(Crossword) - 2):\n",
    "    Crossword[i] = Crossword[i] + ' '\n",
    "    \n",
    "for i in range(len(Crossword)- 2):\n",
    "    for n in range(len(Crossword[i])):   \n",
    "        if Crossword[i+2] != None: \n",
    "            if ((Crossword[i][n] == 'M' and Crossword[i + 1][n + 1] == 'A' and Crossword[i + 2][n + 2] == 'S') or (Crossword[i][n] == 'S' and Crossword[i + 1][n + 1] == 'A' and Crossword[i + 2][n + 2] == 'M')) and ((Crossword[i][n + 2] == 'M' and Crossword[i + 1][n + 1] == 'A' and Crossword[i + 2][n] == 'S') or (Crossword[i][n + 2] == 'S' and Crossword[i + 1][n + 1] == 'A' and Crossword[i + 2][n] == 'M')):\n",
    "                X_MASCount += 1\n",
    "\n",
    "print(X_MASCount) "
   ]
  },
  {
   "cell_type": "code",
   "execution_count": null,
   "id": "8e78eb52-822e-447d-a2fe-c5c8c9d541e3",
   "metadata": {},
   "outputs": [],
   "source": []
  }
 ],
 "metadata": {
  "kernelspec": {
   "display_name": "Python 3 (ipykernel)",
   "language": "python",
   "name": "python3"
  },
  "language_info": {
   "codemirror_mode": {
    "name": "ipython",
    "version": 3
   },
   "file_extension": ".py",
   "mimetype": "text/x-python",
   "name": "python",
   "nbconvert_exporter": "python",
   "pygments_lexer": "ipython3",
   "version": "3.12.5"
  }
 },
 "nbformat": 4,
 "nbformat_minor": 5
}
