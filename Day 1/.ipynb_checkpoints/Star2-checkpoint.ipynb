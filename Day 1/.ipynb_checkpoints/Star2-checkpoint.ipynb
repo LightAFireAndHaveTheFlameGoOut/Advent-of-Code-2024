{
 "cells": [
  {
   "cell_type": "code",
   "execution_count": 2,
   "id": "5818245d-b906-4bde-ad80-97db4f7756d5",
   "metadata": {},
   "outputs": [
    {
     "name": "stdout",
     "output_type": "stream",
     "text": [
      "23046913\n"
     ]
    }
   ],
   "source": [
    "List1 = open('List1.csv', 'r').read().split(',')\n",
    "List2 = open('List2.csv', 'r').read().split(',')\n",
    "SimilarityScore = 0\n",
    "for i in range(len(List1)):\n",
    "    List1[i] = int(List1[i])\n",
    "for i in range(len(List2)):\n",
    "    List2[i] = int(List2[i])\n",
    "\n",
    "for i in range(len(List1)):\n",
    "    count = 0\n",
    "    for n in range(len(List2)):\n",
    "        if List1[i] == List2[n]:\n",
    "           count += 1 \n",
    "    SimilarityScore += (count * List1[i])\n",
    "    \n",
    "print(SimilarityScore)"
   ]
  },
  {
   "cell_type": "code",
   "execution_count": null,
   "id": "42806a6d-77c5-4ca0-a2a1-5cef7558fc82",
   "metadata": {},
   "outputs": [],
   "source": []
  }
 ],
 "metadata": {
  "kernelspec": {
   "display_name": "Python 3 (ipykernel)",
   "language": "python",
   "name": "python3"
  },
  "language_info": {
   "codemirror_mode": {
    "name": "ipython",
    "version": 3
   },
   "file_extension": ".py",
   "mimetype": "text/x-python",
   "name": "python",
   "nbconvert_exporter": "python",
   "pygments_lexer": "ipython3",
   "version": "3.13.0"
  }
 },
 "nbformat": 4,
 "nbformat_minor": 5
}
