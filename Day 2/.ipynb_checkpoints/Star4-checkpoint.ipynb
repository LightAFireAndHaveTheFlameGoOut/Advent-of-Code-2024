{
 "cells": [
  {
   "cell_type": "code",
   "execution_count": 72,
   "id": "c66597db-e46c-4003-84f6-5acf33b71651",
   "metadata": {},
   "outputs": [
    {
     "name": "stdout",
     "output_type": "stream",
     "text": [
      "621\n"
     ]
    }
   ],
   "source": [
    "Data2 = open('NonSafe.csv', 'r').read().split(',')\n",
    "safe = int(Data2[-1])\n",
    "Data2.pop(-1)\n",
    "\n",
    "for i in range(len(Data2)):\n",
    "    ExtraSafe = 0\n",
    "    Line = Data2[i]\n",
    "    Line = Line.split()\n",
    "    \n",
    "    for n in range(len(Line)):\n",
    "        Line[n] = int(Line[n])\n",
    "        \n",
    "    for m in range(len(Line)):\n",
    "        TempLine = Line.copy()\n",
    "        TempLine.pop(m)\n",
    "\n",
    "        count1 = False\n",
    "        count2 = False\n",
    "        adjacent = False\n",
    "    \n",
    "        for n in range(len(TempLine)-1):\n",
    "            if TempLine[n] > TempLine[n+1]:\n",
    "                count1 = True\n",
    "            \n",
    "            if TempLine[n] < TempLine[n+1]:\n",
    "                count2 = True\n",
    "            \n",
    "            if (TempLine[n] - TempLine[n+1] < 4 and TempLine[n] - TempLine[n+1] > 0) or (TempLine[n+1] - TempLine[n] < 4 and TempLine[n+1] - TempLine[n]) > 0:\n",
    "                adjacent = True\n",
    "            else:\n",
    "                adjacent = False\n",
    "                break\n",
    "                \n",
    "        \n",
    "        if (count1 == False or count2 == False) and adjacent == True:\n",
    "            ExtraSafe += 1\n",
    "            break\n",
    "    \n",
    "    if ExtraSafe > 0:\n",
    "        safe += 1\n",
    "\n",
    "print(safe)"
   ]
  }
 ],
 "metadata": {
  "kernelspec": {
   "display_name": "Python 3 (ipykernel)",
   "language": "python",
   "name": "python3"
  },
  "language_info": {
   "codemirror_mode": {
    "name": "ipython",
    "version": 3
   },
   "file_extension": ".py",
   "mimetype": "text/x-python",
   "name": "python",
   "nbconvert_exporter": "python",
   "pygments_lexer": "ipython3",
   "version": "3.13.0"
  }
 },
 "nbformat": 4,
 "nbformat_minor": 5
}
