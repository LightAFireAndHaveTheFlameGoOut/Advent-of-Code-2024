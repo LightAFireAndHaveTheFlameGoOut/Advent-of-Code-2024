{
 "cells": [
  {
   "cell_type": "code",
   "execution_count": 51,
   "id": "bc264b3a-cb75-41bf-9873-2a209578ba09",
   "metadata": {},
   "outputs": [
    {
     "name": "stdout",
     "output_type": "stream",
     "text": [
      "591\n"
     ]
    }
   ],
   "source": [
    "Data = open('BaseData.txt')\n",
    "Data = Data.read().split('\\n')\n",
    "Data2 = Data.copy()\n",
    "safe = 0\n",
    "for i in range(len(Data)):\n",
    "    count1 = False\n",
    "    count2 = False\n",
    "    adjacent = False\n",
    "    \n",
    "    Line = Data[i]\n",
    "    Line = Line.split()\n",
    "    \n",
    "    for n in range(len(Line)):\n",
    "        Line[n] = int(Line[n])\n",
    "        \n",
    "    for n in range(len(Line)-1):\n",
    "        if Line[n] > Line[n+1]:\n",
    "            count1 += True\n",
    "            \n",
    "        if Line[n] < Line[n+1]:\n",
    "            count2 += True\n",
    "            \n",
    "        if (Line[n] - Line[n+1] < 4 and Line[n] - Line[n+1] > 0) or (Line[n+1] - Line[n] < 4 and Line[n+1] - Line[n]) > 0:\n",
    "            adjacent = True\n",
    "        else:\n",
    "            adjacent = False\n",
    "            break            \n",
    "      \n",
    "    if (count1 == False or count2 == False) and adjacent == True:\n",
    "        Data2.pop(i - safe)\n",
    "        safe += 1\n",
    "\n",
    "Data2.append(safe)\n",
    "Data2 = str(Data2).strip('[]').replace('\\'', '')\n",
    "\n",
    "nonsafe = open(\"NonSafe.csv\", \"w\")\n",
    "nonsafe.write(Data2)\n",
    "nonsafe.close()\n",
    "\n",
    "print(safe)"
   ]
  }
 ],
 "metadata": {
  "kernelspec": {
   "display_name": "Python 3 (ipykernel)",
   "language": "python",
   "name": "python3"
  },
  "language_info": {
   "codemirror_mode": {
    "name": "ipython",
    "version": 3
   },
   "file_extension": ".py",
   "mimetype": "text/x-python",
   "name": "python",
   "nbconvert_exporter": "python",
   "pygments_lexer": "ipython3",
   "version": "3.13.0"
  }
 },
 "nbformat": 4,
 "nbformat_minor": 5
}
