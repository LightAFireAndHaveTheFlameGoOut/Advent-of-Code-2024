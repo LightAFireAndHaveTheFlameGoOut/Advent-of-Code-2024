{
 "cells": [
  {
   "cell_type": "code",
   "execution_count": 31,
   "id": "e05cddc8-ff98-4cb8-856b-d006ea8b59f1",
   "metadata": {},
   "outputs": [
    {
     "name": "stdout",
     "output_type": "stream",
     "text": [
      "[45, 70]\n"
     ]
    }
   ],
   "source": [
    "Map = open('Map.txt').read().split('\\n')\n",
    "Map.insert(0, ''.ljust(len(Map[0]), 'E'))\n",
    "Map.append(''.ljust(len(Map[0]), 'E'))\n",
    "GuardDire = '^'\n",
    "\n",
    "for i in range(len(Map)):\n",
    "    Map[i] = 'E' + Map[i] + 'E'\n",
    "    if Map[i].find(GuardDire) != -1:\n",
    "        guard = [i, Map[i].find('^')]\n",
    "print(guard)"
   ]
  },
  {
   "cell_type": "code",
   "execution_count": null,
   "id": "3b724343-5f6d-46a4-ae80-dc613e4c7cf9",
   "metadata": {},
   "outputs": [],
   "source": [
    "GuardMap = Map.copy()\n",
    "\n",
    "Edge = False\n",
    "\n",
    "while Edge == False:\n",
    "    if GuardDire == '^':\n",
    "        for i in range(len(Map)):\n",
    "            if Map[i].find(GuardDire) != -1:\n",
    "                Guard = [i, Map[i].find(GuardDire)]\n",
    "        GuardMap[Guard[0]].replace('^', 'X')\n",
    "        GuardMap[Guard[0]-1] = list(GuardMap[Guard[0]-1])\n",
    "        #print(GuardMap[Guard[0]-1])\n",
    "        if GuardMap[Guard[0]-1][Guard[1]] == '#':\n",
    "            GuardDire = '>'\n",
    "            break\n",
    "        elif GuardMap[Guard[0]-1][Guard[1]] == 'E':\n",
    "            Edge = True\n",
    "        GuardMap[Guard[0]-1].pop(Guard[1])\n",
    "        GuardMap[Guard[0]-1].insert(Guard[1], GuardDire)\n",
    "        GuardMap[Guard[0]-1] = str(GuardMap[Guard[0]-1])\n",
    "\n",
    "    if GuardDire == '>':\n",
    "        for i in range(len(Map)):\n",
    "            if Map[i].find(GuardDire) != -1:\n",
    "                Guard = [i, Map[i].find(GuardDire)]\n",
    "        GuardMap[Guard[0]].replace('>', 'X')\n",
    "        GuardMap[Guard[0]] = list(GuardMap[Guard[0]])\n",
    "        if GuardMap[Guard[0]][Guard[1]+1] == '#':\n",
    "            GuardDire = 'v'\n",
    "            break\n",
    "        elif GuardMap[Guard[0]][Guard[1]+1] == 'E':\n",
    "            Edge = True\n",
    "        GuardMap[Guard[0]].pop(Guard[1]+1)\n",
    "        GuardMap[Guard[0]].insert(Guard[1]+1, GuardDire)\n",
    "        GuardMap[Guard[0]] = str(GuardMap[Guard[0]])\n",
    "\n",
    "    if GuardDire == 'v':\n",
    "        for i in range(len(Map)):\n",
    "            if Map[i].find(GuardDire) != -1:\n",
    "                Guard = [i, Map[i].find(GuardDire)]\n",
    "        GuardMap[Guard[0]].replace('v', 'X')\n",
    "        GuardMap[Guard[0]+1] = list(GuardMap[Guard[0]+1])\n",
    "        if GuardMap[Guard[0]+1][Guard[1]] == '#':\n",
    "            GuardDire = '<'\n",
    "            break\n",
    "        elif GuardMap[Guard[0]+1][Guard[1]] == 'E':\n",
    "            Edge = True\n",
    "        GuardMap[Guard[0]+1].pop(Guard[1])\n",
    "        GuardMap[Guard[0]+1].insert(Guard[1], GuardDire)\n",
    "        GuardMap[Guard[0]+1] = str(GuardMap[Guard[0]+1])\n",
    "\n",
    "    if GuardDire == '<':\n",
    "        for i in range(len(Map)):\n",
    "            if Map[i].find(GuardDire) != -1:\n",
    "                Guard = [i, Map[i].find(GuardDire)]\n",
    "        GuardMap[Guard[0]].replace('<', 'X')\n",
    "        GuardMap[Guard[0]] = list(GuardMap[Guard[0]])\n",
    "        if GuardMap[Guard[0]][Guard[1]-1] == '#':\n",
    "            GuardDire = 'v'\n",
    "            break\n",
    "        elif GuardMap[Guard[0]][Guard[1]-1] == 'E':\n",
    "            Edge = True\n",
    "        GuardMap[Guard[0]].pop(Guard[1]-1)\n",
    "        GuardMap[Guard[0]].insert(Guard[1]-1, GuardDire)\n",
    "        GuardMap[Guard[0]] = str(GuardMap[Guard[0]])\n",
    "\n",
    "    GFile = open('GuardMap.txt', 'w')\n",
    "    GFile.write('\\n'.join(GuardMap))\n",
    "    GFile.close()"
   ]
  }
 ],
 "metadata": {
  "kernelspec": {
   "display_name": "Python 3 (ipykernel)",
   "language": "python",
   "name": "python3"
  },
  "language_info": {
   "codemirror_mode": {
    "name": "ipython",
    "version": 3
   },
   "file_extension": ".py",
   "mimetype": "text/x-python",
   "name": "python",
   "nbconvert_exporter": "python",
   "pygments_lexer": "ipython3",
   "version": "3.12.5"
  }
 },
 "nbformat": 4,
 "nbformat_minor": 5
}
