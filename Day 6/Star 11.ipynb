{
 "cells": [
  {
   "cell_type": "code",
   "execution_count": 14,
   "id": "e05cddc8-ff98-4cb8-856b-d006ea8b59f1",
   "metadata": {},
   "outputs": [
    {
     "name": "stdout",
     "output_type": "stream",
     "text": [
      "[45, 70]\n"
     ]
    }
   ],
   "source": [
    "Map = open('Map.txt').read().split('\\n')\n",
    "Map.insert(0, ''.ljust(len(Map[0]), 'E'))\n",
    "Map.append(''.ljust(len(Map[0]), 'E'))\n",
    "GuardDire = '^'\n",
    "\n",
    "for i in range(len(Map)):\n",
    "    Map[i] = 'E' + Map[i] + 'E'\n",
    "    Map[i] = list(Map[i])\n",
    "    if Map[i].count(GuardDire) == 1:\n",
    "        guard = [i, Map[i].index('^')]\n",
    "print(guard)"
   ]
  },
  {
   "cell_type": "code",
   "execution_count": 18,
   "id": "3b724343-5f6d-46a4-ae80-dc613e4c7cf9",
   "metadata": {
    "scrolled": true
   },
   "outputs": [
    {
     "name": "stdout",
     "output_type": "stream",
     "text": [
      "['E', '.', '.', '.', '.', '.', '.', '.', '.', '.', '.', '.', '.', '.', '.', '.', '.', '.', '#', '.', '#', '.', '.', '.', '.', '.', '.', '.', '.', '.', '.', '.', '.', '.', '.', '.', '.', '.', '.', '.', '.', '.', '.', '.', '.', '.', '.', '.', '.', '.', '.', '.', '.', '.', '.', '.', '.', '.', '.', '.', '.', '.', '.', '.', '.', '#', '.', '.', '.', '.', '.', '.', '.', '.', '.', '.', '.', '.', '.', '.', '.', '.', '#', '.', '.', '.', '.', '.', '.', '.', '.', '.', '.', '.', '.', '.', '.', '.', '.', '.', '.', '.', '.', '.', '.', '.', 'X', '.', '.', '.', '.', '.', '.', '.', '.', '.', '.', '.', '.', '.', '.', '.', '.', '#', '.', '.', '.', '.', '.', '.', '.', 'E']\n",
      "4973\n"
     ]
    }
   ],
   "source": [
    "GuardMap = Map.copy()\n",
    "Xnum = 0\n",
    "Edge = False\n",
    "\n",
    "while Edge == False:\n",
    "    if GuardDire == '^':\n",
    "        for i in range(len(Map)):\n",
    "            if GuardMap[i].count(GuardDire) == 1:\n",
    "                Guard = [i, Map[i].index(GuardDire)]\n",
    "        GuardMap[Guard[0]].pop(Guard[1])\n",
    "        GuardMap[Guard[0]].insert(Guard[1], 'X')\n",
    "        print(GuardMap[Guard[0]])\n",
    "        if GuardMap[Guard[0]-1][Guard[1]] == '#':\n",
    "            GuardDire = '>'\n",
    "        elif GuardMap[Guard[0]-1][Guard[1]] == 'E':\n",
    "            Edge = True\n",
    "        else:\n",
    "            GuardMap[Guard[0]-1].pop(Guard[1])\n",
    "            GuardMap[Guard[0]-1].insert(Guard[1], GuardDire)\n",
    "            print('This has done this once')\n",
    "\n",
    "    if GuardDire == '>':\n",
    "        for i in range(len(Map)):\n",
    "            if GuardMap[i].count(GuardDire) == 1:\n",
    "                Guard = [i, Map[i].index(GuardDire)]\n",
    "        GuardMap[Guard[0]].pop(Guard[1])\n",
    "        GuardMap[Guard[0]].insert(Guard[1], 'X')\n",
    "        if GuardMap[Guard[0]][Guard[1]+1] == '#':\n",
    "            GuardDire = 'v'\n",
    "        elif GuardMap[Guard[0]][Guard[1]+1] == 'E':\n",
    "            Edge = True\n",
    "        else:\n",
    "            GuardMap[Guard[0]].pop(Guard[1]+1)\n",
    "            GuardMap[Guard[0]].insert(Guard[1]+1, GuardDire)\n",
    "\n",
    "    if GuardDire == 'v':\n",
    "        for i in range(len(Map)):\n",
    "            if GuardMap[i].count(GuardDire) == 1:\n",
    "                Guard = [i, Map[i].index(GuardDire)]\n",
    "        GuardMap[Guard[0]].pop(Guard[1])\n",
    "        GuardMap[Guard[0]].insert(Guard[1], 'X')\n",
    "        if GuardMap[Guard[0]+1][Guard[1]] == '#':\n",
    "            GuardDire = '<'\n",
    "        elif GuardMap[Guard[0]+1][Guard[1]] == 'E':\n",
    "            Edge = True\n",
    "        else:\n",
    "            GuardMap[Guard[0]+1].pop(Guard[1])\n",
    "            GuardMap[Guard[0]+1].insert(Guard[1], GuardDire)\n",
    "\n",
    "    if GuardDire == '<':\n",
    "        for i in range(len(Map)):\n",
    "            if GuardMap[i].count(GuardDire) == 1:\n",
    "                Guard = [i, Map[i].index(GuardDire)]\n",
    "        GuardMap[Guard[0]].pop(Guard[1])\n",
    "        GuardMap[Guard[0]].insert(Guard[1], 'X')\n",
    "        if GuardMap[Guard[0]][Guard[1]-1] == '#':\n",
    "            GuardDire = '^'\n",
    "        elif GuardMap[Guard[0]][Guard[1]-1] == 'E':\n",
    "            Edge = True\n",
    "        else:\n",
    "            GuardMap[Guard[0]].pop(Guard[1]-1)\n",
    "            GuardMap[Guard[0]].insert(Guard[1]-1, GuardDire)\n",
    "\n",
    "GFile = open('GuardMap.txt', 'w')\n",
    "\n",
    "for i in range(len(GuardMap)):\n",
    "    Xnum += GuardMap[i].count('X')\n",
    "    GuardMap[i] = ''.join(GuardMap[i])\n",
    "GuardMap = '\\n'.join(GuardMap)\n",
    "GFile.write(GuardMap)\n",
    "GFile.close()\n",
    "print(Xnum)"
   ]
  },
  {
   "cell_type": "code",
   "execution_count": null,
   "id": "76830ea6-54bc-42a6-af08-776ebb869209",
   "metadata": {},
   "outputs": [],
   "source": []
  }
 ],
 "metadata": {
  "kernelspec": {
   "display_name": "Python 3 (ipykernel)",
   "language": "python",
   "name": "python3"
  },
  "language_info": {
   "codemirror_mode": {
    "name": "ipython",
    "version": 3
   },
   "file_extension": ".py",
   "mimetype": "text/x-python",
   "name": "python",
   "nbconvert_exporter": "python",
   "pygments_lexer": "ipython3",
   "version": "3.12.5"
  }
 },
 "nbformat": 4,
 "nbformat_minor": 5
}
