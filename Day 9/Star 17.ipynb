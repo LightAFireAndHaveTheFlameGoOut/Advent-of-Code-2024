{
 "cells": [
  {
   "cell_type": "code",
   "execution_count": 94,
   "id": "d83cf60d-2101-470d-bdb7-341ff8b824a5",
   "metadata": {
    "scrolled": true
   },
   "outputs": [
    {
     "name": "stdout",
     "output_type": "stream",
     "text": [
      "[0, 0, '.', '.', '.', 1, 1, 1, '.', '.', '.', 2, '.', '.', '.', 3, 3, 3, '.', 4, 4, '.', 5, 5, 5, 5, '.', 6, 6, 6, 6, '.', 7, 7, 7, '.', 8, 8, 8, 8, 9, 9]\n"
     ]
    }
   ],
   "source": [
    "Map = open('ExDiskMap.txt').read()\n",
    "DecomMap = []\n",
    "\n",
    "for i in range(0, len(Map), 2):\n",
    "    for n in range(int(Map[i])):\n",
    "            DecomMap.append(i//2)\n",
    "    if i+1 < len(Map):\n",
    "        for m in range(int(Map[i+1])):\n",
    "            DecomMap.append('.')\n",
    "\n",
    "print(DecomMap)\n",
    "    "
   ]
  },
  {
   "cell_type": "code",
   "execution_count": 95,
   "id": "c96a6855-626b-4ba9-95d8-9b9eda1b1462",
   "metadata": {
    "scrolled": true
   },
   "outputs": [
    {
     "name": "stdout",
     "output_type": "stream",
     "text": [
      "[0, 0, 9, 9, 8, 1, 1, 1, 8, 8, 8, 2, 7, 7, 7, 3, 3, 3, 6, 4, 4, 6, 5, 5, 5, 5, 6, 6, '.', '.']\n",
      "1928\n"
     ]
    }
   ],
   "source": [
    "CDecomMap = DecomMap.copy()\n",
    "CheckSum = 0\n",
    "Count = 0\n",
    "\n",
    "Count = len(CDecomMap) - CDecomMap.count('.')\n",
    "        \n",
    "for i in range(Count):\n",
    "    #print(i, CDecomMap[i], CDecomMap[i] == '.')\n",
    "    if CDecomMap[i] == '.':\n",
    "        #print('HI')\n",
    "        for n in range(len(CDecomMap)-1, 0, -1):\n",
    "            if isinstance(CDecomMap[n], int) and n > i:\n",
    "                temp = CDecomMap[n]\n",
    "                CDecomMap.remove('.')\n",
    "                CDecomMap.insert(i, temp)\n",
    "                CDecomMap.pop(n)\n",
    "                #print(CDecomMap)\n",
    "                break\n",
    "\n",
    "print(CDecomMap)\n",
    "for i in range(len(CDecomMap)):\n",
    "    #print(CDecomMap[i])\n",
    "    if isinstance(CDecomMap[i], int):\n",
    "        CheckSum = CheckSum + (i * CDecomMap[i])\n",
    "        #print(CheckSum, i, CDecomMap[i], (i * CDecomMap[i]) )\n",
    "\n",
    "print(CheckSum)"
   ]
  },
  {
   "cell_type": "code",
   "execution_count": null,
   "id": "53d6ee5b-1390-4219-9f59-b7007e554d81",
   "metadata": {},
   "outputs": [],
   "source": []
  }
 ],
 "metadata": {
  "kernelspec": {
   "display_name": "Python 3 (ipykernel)",
   "language": "python",
   "name": "python3"
  },
  "language_info": {
   "codemirror_mode": {
    "name": "ipython",
    "version": 3
   },
   "file_extension": ".py",
   "mimetype": "text/x-python",
   "name": "python",
   "nbconvert_exporter": "python",
   "pygments_lexer": "ipython3",
   "version": "3.12.5"
  }
 },
 "nbformat": 4,
 "nbformat_minor": 5
}
