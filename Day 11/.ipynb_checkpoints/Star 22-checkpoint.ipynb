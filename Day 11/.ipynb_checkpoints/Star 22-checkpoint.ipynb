{
 "cells": [
  {
   "cell_type": "code",
   "execution_count": 3,
   "id": "2730d88c-13a9-4b77-b0dc-df8d9da8007b",
   "metadata": {
    "scrolled": true
   },
   "outputs": [
    {
     "name": "stdout",
     "output_type": "stream",
     "text": [
      "[6] [11] [33023] [4134] [564] [0] [8922422] [688775]\n"
     ]
    }
   ],
   "source": [
    "StartStones = open('Start Numbers.txt').read().split(' ')\n",
    "\n",
    "for i in range(len(StartStones)):\n",
    "    StartStones[i] = int(StartStones[i])\n",
    "\n",
    "num0 = [StartStones[0]]\n",
    "num1 = [StartStones[1]]\n",
    "num2 = [StartStones[2]]\n",
    "num3 = [StartStones[3]]\n",
    "num4 = [StartStones[4]]\n",
    "num5 = [StartStones[5]]\n",
    "num6 = [StartStones[6]]\n",
    "num7 = [StartStones[7]]\n",
    "\n",
    "print(num0, num1, num2, num3, num4, num5, num6, num7)         "
   ]
  },
  {
   "cell_type": "markdown",
   "id": "994152b6-7cd5-4a3b-839a-74ada125a172",
   "metadata": {},
   "source": [
    "<h1>1st number</h1>"
   ]
  },
  {
   "cell_type": "code",
   "execution_count": 7,
   "id": "95f8481d-ee77-4010-8329-7481aa4a03a7",
   "metadata": {},
   "outputs": [
    {
     "name": "stdout",
     "output_type": "stream",
     "text": [
      "25469\n"
     ]
    }
   ],
   "source": [
    "NewStones0 = []\n",
    "for n0 in range(0, 25):\n",
    "    if n0 == 0:\n",
    "        ThisGo0 = num0.copy()\n",
    "    else:\n",
    "        ThisGo0 = NewStones0.copy()\n",
    "    NewStones0.clear()\n",
    "    for i0 in range(len(ThisGo0)):\n",
    "        if ThisGo0[i0] == 0:\n",
    "            NewStones0.append(1)\n",
    "        elif len(str(ThisGo0[i0])) % 2 == 0:\n",
    "            TempS0 = str(ThisGo0[i0])\n",
    "            Mid = len(TempS0)//2\n",
    "            NewStones0.append(int(TempS0[0:Mid]))\n",
    "            NewStones0.append(int(TempS0[Mid:]))\n",
    "        else:\n",
    "            NewStones0.append(ThisGo0[i0]*2024)\n",
    "\n",
    "\n",
    "\n",
    "len0 = len(NewStones0)\n",
    "print(len(NewStones0))"
   ]
  },
  {
   "cell_type": "markdown",
   "id": "70edc12e-fd53-48fb-87df-d2129d75c484",
   "metadata": {},
   "source": [
    "<h1>2nd Number</h1>"
   ]
  },
  {
   "cell_type": "code",
   "execution_count": null,
   "id": "aadc003d-6e3c-4ff4-8ade-2bac35d89126",
   "metadata": {},
   "outputs": [],
   "source": [
    "for n1 in range(0, 75):\n",
    "    if n1 == 0:\n",
    "        ThisGo1 = num1.copy()\n",
    "    else:\n",
    "        ThisGo1 = NewStones1.copy()\n",
    "    NewStones1 = []\n",
    "    for i1 in range(len(ThisGo1)):\n",
    "        if ThisGo1[i1] == 0:\n",
    "            NewStones1.append(1)\n",
    "        elif len(str(ThisGo1[i1])) % 2 == 0:\n",
    "            TempS1 = str(ThisGo1[i1])\n",
    "            TempS11 = TempS1[0:len(TempS1)//2]\n",
    "            #print(TempS1)\n",
    "            TempS21 = TempS1[len(TempS1)//2:]\n",
    "            #print(TempS2)\n",
    "            NewStones1.append(int(TempS11))\n",
    "            NewStones1.append(int(TempS21))\n",
    "        else:\n",
    "            NewStones1.append(ThisGo1[i1]*2024)\n",
    "\n",
    "len1 = len(NewStones1)\n",
    "print(len(NewStones1))"
   ]
  },
  {
   "cell_type": "markdown",
   "id": "d088ab7f-5b94-499e-84c2-6591dcb40696",
   "metadata": {},
   "source": [
    "<h1>3rd Number</h1>"
   ]
  },
  {
   "cell_type": "code",
   "execution_count": null,
   "id": "18058040-1587-4a05-a6a8-35f2f6431927",
   "metadata": {},
   "outputs": [],
   "source": [
    "for n2 in range(0, 75):\n",
    "    if n2 == 0:\n",
    "        ThisGo1 = num2.copy()\n",
    "    else:\n",
    "        ThisGo2 = NewStones2.copy()\n",
    "    NewStones2 = []\n",
    "    for i2 in range(len(ThisGo2)):\n",
    "        if ThisGo2[i2] == 0:\n",
    "            NewStones2.append(1)\n",
    "        elif len(str(ThisGo2[i2])) % 2 == 0:\n",
    "            TempS2 = str(ThisGo2[i2])\n",
    "            TempS12 = TempS2[0:len(TempS2)//2]\n",
    "            #print(TempS1)\n",
    "            TempS22 = TempS2[len(TempS2)//2:]\n",
    "            #print(TempS2)\n",
    "            NewStones2.append(int(TempS12))\n",
    "            NewStones2.append(int(TempS22))\n",
    "        else:\n",
    "            NewStones2.append(ThisGo2[i2]*2024)\n",
    "\n",
    "len2 = len(NewStones2)\n",
    "print(len(NewStones2))"
   ]
  },
  {
   "cell_type": "markdown",
   "id": "53623563-2fc6-43cf-af34-7365ab75d591",
   "metadata": {},
   "source": [
    "<h1>4thNumber</h1>"
   ]
  },
  {
   "cell_type": "code",
   "execution_count": null,
   "id": "15c2bfb2-a7e0-418f-b8a0-da522bfac62d",
   "metadata": {},
   "outputs": [],
   "source": [
    "for n3 in range(0, 75):\n",
    "    if n3 == 0:\n",
    "        ThisGo3 = num3.copy()\n",
    "    else:\n",
    "        ThisGo3 = NewStones3.copy()\n",
    "    NewStones3 = []\n",
    "    for i3 in range(len(ThisGo3)):\n",
    "        if ThisGo1[i3] == 0:\n",
    "            NewStones3.append(1)\n",
    "        elif len(str(ThisGo1[i3])) % 2 == 0:\n",
    "            TempS3 = str(ThisGo3[i3])\n",
    "            TempS13 = TempS3[0:len(TempS3)//2]\n",
    "            #print(TempS1)\n",
    "            TempS23 = TempS3[len(TempS3)//2:]\n",
    "            #print(TempS2)\n",
    "            NewStones3.append(int(TempS13))\n",
    "            NewStones3.append(int(TempS23))\n",
    "        else:\n",
    "            NewStones3.append(ThisGo3[i3]*2024)\n",
    "\n",
    "len3 = len(NewStones3)\n",
    "print(len(NewStones3))"
   ]
  },
  {
   "cell_type": "markdown",
   "id": "8e715922-3d35-437c-ba7d-4cc312031b18",
   "metadata": {},
   "source": [
    "<h1>5th Number</h1>"
   ]
  },
  {
   "cell_type": "code",
   "execution_count": null,
   "id": "ccf3f1f0-0830-4a61-aa34-ecd6d13398e3",
   "metadata": {},
   "outputs": [],
   "source": [
    "for n4 in range(0, 75):\n",
    "    if n4 == 0:\n",
    "        ThisGo4 = num4.copy()\n",
    "    else:\n",
    "        ThisGo4 = NewStones4.copy()\n",
    "    NewStones4 = []\n",
    "    for i4 in range(len(ThisGo4)):\n",
    "        if ThisGo1[i4] == 0:\n",
    "            NewStones4.append(1)\n",
    "        elif len(str(ThisGo4[i4])) % 2 == 0:\n",
    "            TempS4 = str(ThisGo4[i4])\n",
    "            TempS14 = TempS4[0:len(TempS4)//2]\n",
    "            #print(TempS1)\n",
    "            TempS24 = TempS4[len(TempS4)//2:]\n",
    "            #print(TempS2)\n",
    "            NewStones4.append(int(TempS14))\n",
    "            NewStones4.append(int(TempS24))\n",
    "        else:\n",
    "            NewStones4.append(ThisGo4[i4]*2024)\n",
    "\n",
    "len4 = len(NewStones4)\n",
    "print(len(NewStones4))"
   ]
  },
  {
   "cell_type": "markdown",
   "id": "b5b39f06-dafc-4777-822a-88bcc77d0690",
   "metadata": {},
   "source": [
    "<h1>6th Number</h1>"
   ]
  },
  {
   "cell_type": "code",
   "execution_count": null,
   "id": "1bde56f5-19e1-462e-a80b-41ac4fc31a83",
   "metadata": {},
   "outputs": [],
   "source": [
    "for n5 in range(0, 75):\n",
    "    if n5 == 0:\n",
    "        ThisGo5 = num5.copy()\n",
    "    else:\n",
    "        ThisGo5 = NewStones5.copy()\n",
    "    NewStones5 = []\n",
    "    for i5 in range(len(ThisGo5)):\n",
    "        if ThisGo5[i5] == 0:\n",
    "            NewStones5.append(1)\n",
    "        elif len(str(ThisGo5[i5])) % 2 == 0:\n",
    "            TempS5 = str(ThisGo5[i5])\n",
    "            TempS15 = TempS5[0:len(TempS5)//2]\n",
    "            #print(TempS1)\n",
    "            TempS25 = TempS5[len(TempS5)//2:]\n",
    "            #print(TempS2)\n",
    "            NewStones5.append(int(TempS15))\n",
    "            NewStones5.append(int(TempS25))\n",
    "        else:\n",
    "            NewStones5.append(ThisGo5[i5]*2024)\n",
    "\n",
    "len5 = len(NewStones5)\n",
    "print(len(NewStones5))"
   ]
  },
  {
   "cell_type": "markdown",
   "id": "9b967fc6-2b4b-44e4-af78-320c47138bb8",
   "metadata": {},
   "source": [
    "<h1>7th Number</h1>"
   ]
  },
  {
   "cell_type": "code",
   "execution_count": null,
   "id": "3605caa4-ec7e-43ea-8f0e-21f447279bd8",
   "metadata": {},
   "outputs": [],
   "source": [
    "for n6 in range(0, 75):\n",
    "    if n6 == 0:\n",
    "        ThisGo6 = num6.copy()\n",
    "    else:\n",
    "        ThisGo6 = NewStones6.copy()\n",
    "    NewStones6 = []\n",
    "    for i6 in range(len(ThisGo6)):\n",
    "        if ThisGo6[i6] == 0:\n",
    "            NewStones6.append(1)\n",
    "        elif len(str(ThisGo6[i6])) % 2 == 0:\n",
    "            TempS6 = str(ThisGo6[i6])\n",
    "            TempS16 = TempS6[0:len(TempS6)//2]\n",
    "            #print(TempS1)\n",
    "            TempS26 = TempS6[len(TempS6)//2:]\n",
    "            #print(TempS2)\n",
    "            NewStones6.append(int(TempS16))\n",
    "            NewStones6.append(int(TempS26))\n",
    "        else:\n",
    "            NewStones6.append(ThisGo6[i6]*2024)\n",
    "\n",
    "len6 = len(NewStones6)\n",
    "print(len(NewStones6))"
   ]
  },
  {
   "cell_type": "markdown",
   "id": "cea7664e-fed5-4dce-8d47-e458ba1d3e77",
   "metadata": {},
   "source": [
    "<h1>8th Number</h1>"
   ]
  },
  {
   "cell_type": "code",
   "execution_count": null,
   "id": "b4853559-38d4-4043-b05e-ea3fdce54642",
   "metadata": {},
   "outputs": [],
   "source": [
    "for n7 in range(0, 75):\n",
    "    if n7 == 0:\n",
    "        ThisGo7 = num7.copy()\n",
    "    else:\n",
    "        ThisGo1 = NewStones1.copy()\n",
    "    NewStones1 = []\n",
    "    for i1 in range(len(ThisGo1)):\n",
    "        if ThisGo1[i1] == 0:\n",
    "            NewStones1.append(1)\n",
    "        elif len(str(ThisGo1[i1])) % 2 == 0:\n",
    "            TempS1 = str(ThisGo1[i1])\n",
    "            TempS11 = TempS[0:len(TempS1)//2]\n",
    "            #print(TempS1)\n",
    "            TempS21 = TempS[len(TempS1)//2:]\n",
    "            #print(TempS2)\n",
    "            NewStones1.append(int(TempS11))\n",
    "            NewStones1.append(int(TempS21))\n",
    "        else:\n",
    "            NewStones1.append(ThisGo1[i1]*2024)\n",
    "\n",
    "len1 = len(NewStones1)\n",
    "print(len(NewStones1))"
   ]
  },
  {
   "cell_type": "code",
   "execution_count": null,
   "id": "bc9a717c-dec2-4e80-b520-f128efc8481a",
   "metadata": {},
   "outputs": [],
   "source": [
    "Len = len0 + len1 + len2 + len3 + len4 + len5 + len6 + len7"
   ]
  }
 ],
 "metadata": {
  "kernelspec": {
   "display_name": "Python 3 (ipykernel)",
   "language": "python",
   "name": "python3"
  },
  "language_info": {
   "codemirror_mode": {
    "name": "ipython",
    "version": 3
   },
   "file_extension": ".py",
   "mimetype": "text/x-python",
   "name": "python",
   "nbconvert_exporter": "python",
   "pygments_lexer": "ipython3",
   "version": "3.12.5"
  }
 },
 "nbformat": 4,
 "nbformat_minor": 5
}
